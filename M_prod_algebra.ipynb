{
 "cells": [
  {
   "cell_type": "code",
   "execution_count": 1,
   "id": "79e81416-2011-4a25-8c0e-fac90fb31662",
   "metadata": {},
   "outputs": [],
   "source": [
    "import numpy as np\n",
    "import matplotlib.pyplot as plt\n",
    "from mprod import  m_prod\n",
    "from mprod import  generate_haar, generate_dct\n",
    "from numpy import linalg as LA\n",
    "from scipy.stats import ortho_group\n",
    "from scipy.fft import dct, idct, rfft, irfft"
   ]
  },
  {
   "cell_type": "code",
   "execution_count": 2,
   "id": "68d42705-8747-448f-9f9e-6c83fb2e64f7",
   "metadata": {},
   "outputs": [],
   "source": [
    "def tensor_frob_norm(A):\n",
    "    return np.sqrt((A**2).sum())\n",
    "\n",
    "def is_pos_def(x):\n",
    "    return np.all(np.linalg.eigvals(x) > 0)"
   ]
  },
  {
   "cell_type": "markdown",
   "id": "4c091275-1d9b-4289-91bf-f6858be9c553",
   "metadata": {},
   "source": [
    "# assighn random tensor A (PSD with dominant diagonal) and b"
   ]
  },
  {
   "cell_type": "code",
   "execution_count": 3,
   "id": "e6c02e84-e9ef-455b-92fb-0fdc4a4a635b",
   "metadata": {},
   "outputs": [
    {
     "name": "stdout",
     "output_type": "stream",
     "text": [
      "\n",
      "condition number of each frontal slice\n",
      "351.40903197504207\n",
      "12476.743630001283\n",
      "114723.45182081225\n",
      "341.2229681667\n",
      "620.4312435944656\n",
      "2343512.9181069834\n",
      "728330.1984372275\n",
      "237.3971474750833\n",
      "557.3595573110449\n",
      "2522.0584469019664\n",
      "\n",
      "condition number of each frontal slice of A^hat\n",
      "2742.178146769511\n",
      "232.22449553521238\n",
      "211.716587930182\n",
      "1790.7403330130733\n",
      "9.60784516923714\n",
      "799.8932930894347\n",
      "31.95389651148932\n",
      "3.673781829147786\n",
      "342.8921126695719\n",
      "179.43088608394834\n"
     ]
    }
   ],
   "source": [
    "m, p, n = 1000, 100, 10\n",
    "funm_dct, invm_dct = generate_haar(n, random_state=121)\n",
    "\n",
    "np.random.seed(0)\n",
    "A_orig = np.random.rand(m, p, n)\n",
    "# precond\n",
    "# A_tensor = m_prod(A_orig.transpose((1,0,2)), A_orig, funm_dct, invm_dct)+10*np.array(n*[np.identity(p)]).transpose((1,2,0))\n",
    "A_tensor = m_prod(A_orig.transpose((1,0,2)), A_orig, funm_dct, invm_dct)\n",
    "X_true = np.random.randn(p, 1, n)\n",
    "B = m_prod(A_tensor, X_true, funm_dct, invm_dct)\n",
    "\n",
    "A_tensor_mult_M = funm_dct(A_tensor)\n",
    "\n",
    "print('\\ncondition number of each frontal slice')\n",
    "for i in range(n):\n",
    "    print(LA.cond(A_tensor[:,:,i]))\n",
    "    \n",
    "print('\\ncondition number of each frontal slice of A^hat')        \n",
    "for i in range(n):\n",
    "    print(LA.cond(A_tensor_mult_M[:,:,i]))"
   ]
  },
  {
   "cell_type": "code",
   "execution_count": 4,
   "id": "28f4a355-65e8-45f6-81cd-ba909730abd5",
   "metadata": {},
   "outputs": [],
   "source": [
    "def facewice_tree(A, B, C=None):\n",
    "    if C is None:\n",
    "        mult = np.einsum('mpi,pli->mli', A, B)\n",
    "    else:\n",
    "        mult = np.einsum('mpi,pli->mli',np.einsum('mpi,pli->mli', A, B), C)\n",
    "    return mult"
   ]
  },
  {
   "cell_type": "markdown",
   "id": "53be3761-3d98-4aca-ada3-23cff0fc70ec",
   "metadata": {},
   "source": [
    "# create precondition tensor - not working for matrix rand, working for randN"
   ]
  },
  {
   "cell_type": "code",
   "execution_count": 5,
   "id": "4a9e8d4b-1a3b-4885-8c50-e1fd2c3fd1dd",
   "metadata": {},
   "outputs": [],
   "source": [
    "# m, p, n = 1000, 100, 1\n",
    "\n",
    "# np.random.seed(0)\n",
    "# A_orig = np.random.rand(m, p, n)\n",
    "# # precond\n",
    "# # A_tensor = m_prod(A_orig.transpose((1,0,2)), A_orig, funm_dct, invm_dct)+10*np.array(n*[np.identity(p)]).transpose((1,2,0))\n",
    "# A_tensor_mult_M = facewice_tree(A_orig.transpose((1,0,2)), A_orig)\n",
    "\n",
    "    \n",
    "# print('\\ncondition number of each frontal slice of A^hat')        \n",
    "# for i in range(n):\n",
    "#     print(LA.cond(A_tensor_mult_M[:,:,i]))"
   ]
  },
  {
   "cell_type": "code",
   "execution_count": 6,
   "id": "8f146e40-3e8d-446b-a942-5c8c0d4e55a5",
   "metadata": {},
   "outputs": [
    {
     "data": {
      "text/plain": [
       "1.937168146928204"
      ]
     },
     "execution_count": 6,
     "metadata": {},
     "output_type": "execute_result"
    }
   ],
   "source": [
    "N = A_tensor_mult_M.shape[0]\n",
    "omega = 2*(1-np.pi/N)\n",
    "omega"
   ]
  },
  {
   "cell_type": "code",
   "execution_count": 7,
   "id": "9923a9fa-784c-4d57-8ee1-e33801c73547",
   "metadata": {},
   "outputs": [],
   "source": [
    "D_flat = np.diagonal(A_tensor_mult_M, axis1=0, axis2=1)\n",
    "D_tensor = np.zeros_like(A_tensor_mult_M)\n",
    "for i in range(A_tensor_mult_M.shape[0]):\n",
    "    D_tensor[i,i,:] = D_flat[:,i]"
   ]
  },
  {
   "cell_type": "code",
   "execution_count": 8,
   "id": "7ef5b9e3-0ae1-4731-8c02-6ce9e9a71440",
   "metadata": {},
   "outputs": [],
   "source": [
    "E_tensor = np.zeros(A_tensor_mult_M.shape)\n",
    "for i in range(A_tensor_mult_M.shape[-1]):\n",
    "    E_tensor[:,:,i] = np.triu(A_tensor_mult_M[:,:,i], k=1).T"
   ]
  },
  {
   "cell_type": "code",
   "execution_count": 9,
   "id": "00b88335-b265-47b2-ad68-8a3353041775",
   "metadata": {},
   "outputs": [],
   "source": [
    "from scipy import linalg\n",
    "\n",
    "def facewice_inverse(D):\n",
    "    D_inv = np.zeros_like(D)\n",
    "    for i in range(D.shape[-1]):\n",
    "        # D[:,:,i] = linalg.inv(D[:,:,i])\n",
    "        D_inv[:,:,i] = linalg.solve_triangular(D[:,:,i], np.identity(D.shape[0]), lower=True)\n",
    "    return D_inv"
   ]
  },
  {
   "cell_type": "code",
   "execution_count": 10,
   "id": "7bbd3684-037e-4967-b46a-e17df49001cb",
   "metadata": {},
   "outputs": [],
   "source": [
    "def m_prod_three(A, B, C, fun_m, inv_m):\n",
    "    \n",
    "    a_hat = fun_m(A)\n",
    "    b_hat = fun_m(B)\n",
    "    c_hat = fun_m(C)\n",
    "\n",
    "    mult_hat = np.einsum('mpi,pli->mli',np.einsum('mpi,pli->mli', a_hat, b_hat), c_hat)\n",
    "    return inv_m(mult_hat)"
   ]
  },
  {
   "cell_type": "code",
   "execution_count": 11,
   "id": "e64699bf-7e50-423b-9aba-87d8dd8661dc",
   "metadata": {},
   "outputs": [],
   "source": [
    "# C_tensor = omega/(2-omega)*facewice_tree(D_tensor/omega+E_tensor, facewice_inverse(D_tensor), D_tensor/omega+E_tensor.transpose(1,0,2))\n",
    "# B_tensor = np.sqrt(omega/(2-omega))*facewice_tree(D_tensor+E_tensor, np.sqrt(facewice_inverse(D_tensor)))"
   ]
  },
  {
   "cell_type": "code",
   "execution_count": 12,
   "id": "a28bd122-a0bd-4148-9b60-3f8d40644ca8",
   "metadata": {},
   "outputs": [],
   "source": [
    "# P_tensor_hat = facewice_inverse(T_tensor)\n",
    "# P_tensor = invm_dct(P_tensor_hat)"
   ]
  },
  {
   "cell_type": "code",
   "execution_count": 13,
   "id": "a3dad239-c45f-4e35-9bd6-ca1377490ba8",
   "metadata": {},
   "outputs": [],
   "source": [
    "B_inv_hat = np.sqrt(omega/(2-omega))*facewice_tree(np.sqrt(D_tensor), facewice_inverse(D_tensor+E_tensor))"
   ]
  },
  {
   "cell_type": "code",
   "execution_count": 14,
   "id": "bf634c65-2476-450b-ab86-77ec1181eb51",
   "metadata": {},
   "outputs": [],
   "source": [
    "A_tensor_tilde = facewice_tree(B_inv_hat, A_tensor_mult_M, B_inv_hat.transpose(1,0,2))"
   ]
  },
  {
   "cell_type": "code",
   "execution_count": 15,
   "id": "e6af7f9f-e64e-4c83-9743-c94285409cd3",
   "metadata": {},
   "outputs": [],
   "source": [
    "# funm_dct(A_tensor_tilde).shape"
   ]
  },
  {
   "cell_type": "code",
   "execution_count": 16,
   "id": "10437157-df72-4f06-b857-62129719c7b5",
   "metadata": {},
   "outputs": [
    {
     "data": {
      "text/plain": [
       "(100, 100, 10)"
      ]
     },
     "execution_count": 16,
     "metadata": {},
     "output_type": "execute_result"
    }
   ],
   "source": [
    "A_tensor_tilde.shape"
   ]
  },
  {
   "cell_type": "code",
   "execution_count": 17,
   "id": "2ce252f2-2798-4b8c-9a37-adcc96f2b85b",
   "metadata": {},
   "outputs": [
    {
     "name": "stdout",
     "output_type": "stream",
     "text": [
      "Condition number of each frontal slice of A^hat\n",
      "Preconditioned:  12753.61701092738 Original:  2742.178146769511\n",
      "diff Original-Preconditioned =  -10011.43886415787\n",
      "Preconditioned:  665.5821842991342 Original:  232.22449553521238\n",
      "diff Original-Preconditioned =  -433.3576887639218\n",
      "Preconditioned:  616.1175982589378 Original:  211.716587930182\n",
      "diff Original-Preconditioned =  -404.4010103287559\n",
      "Preconditioned:  9161.299470336126 Original:  1790.7403330130733\n",
      "diff Original-Preconditioned =  -7370.559137323053\n",
      "Preconditioned:  3.2944455051961476 Original:  9.60784516923714\n",
      "diff Original-Preconditioned =  6.3133996640409915\n",
      "Preconditioned:  3465.410227582163 Original:  799.8932930894347\n",
      "diff Original-Preconditioned =  -2665.516934492728\n",
      "Preconditioned:  24.450328684446262 Original:  31.95389651148932\n",
      "diff Original-Preconditioned =  7.503567827043057\n",
      "Preconditioned:  1.3011928410666973 Original:  3.673781829147786\n",
      "diff Original-Preconditioned =  2.3725889880810884\n",
      "Preconditioned:  1124.6433726570835 Original:  342.8921126695719\n",
      "diff Original-Preconditioned =  -781.7512599875117\n",
      "Preconditioned:  486.2058864624234 Original:  179.43088608394834\n",
      "diff Original-Preconditioned =  -306.77500037847506\n"
     ]
    }
   ],
   "source": [
    "print('Condition number of each frontal slice of A^hat')\n",
    "for i in range(A_tensor_tilde.shape[-1]):\n",
    "    print('Preconditioned: ', LA.cond(A_tensor_tilde[:,:,i]), 'Original: ' , LA.cond(A_tensor_mult_M[:,:,i]))\n",
    "    print('diff Original-Preconditioned = ', LA.cond(A_tensor_mult_M[:,:,i])-LA.cond(A_tensor_tilde[:,:,i]))"
   ]
  },
  {
   "cell_type": "code",
   "execution_count": 18,
   "id": "4b8dcc4b-3733-4e5d-a963-6de868c45466",
   "metadata": {},
   "outputs": [],
   "source": [
    "B_inv = invm_dct(B_inv_hat)\n",
    "B_inv_T = invm_dct(B_inv_hat.transpose(1,0,2))"
   ]
  },
  {
   "cell_type": "code",
   "execution_count": 19,
   "id": "23c6771e-64df-4091-a3c9-242403fcb4c9",
   "metadata": {},
   "outputs": [
    {
     "data": {
      "text/plain": [
       "array([[ 1.61098041e-01,  0.00000000e+00,  0.00000000e+00, ...,\n",
       "         0.00000000e+00,  0.00000000e+00,  0.00000000e+00],\n",
       "       [-1.49625715e-01,  1.62580283e-01,  0.00000000e+00, ...,\n",
       "         0.00000000e+00,  0.00000000e+00,  0.00000000e+00],\n",
       "       [-1.13666481e-02, -1.50692829e-01,  1.63379265e-01, ...,\n",
       "         0.00000000e+00,  0.00000000e+00,  0.00000000e+00],\n",
       "       ...,\n",
       "       [-1.67887012e-04,  5.41300257e-04, -1.64193888e-04, ...,\n",
       "         1.62877395e-01,  0.00000000e+00,  0.00000000e+00],\n",
       "       [-8.63686338e-04, -2.53586193e-04,  2.49686171e-04, ...,\n",
       "        -1.51356113e-01,  1.62538081e-01,  0.00000000e+00],\n",
       "       [ 1.14725970e-03, -7.20979139e-04,  9.50875986e-05, ...,\n",
       "        -1.08284408e-02, -1.50754962e-01,  1.62571886e-01]])"
      ]
     },
     "execution_count": 19,
     "metadata": {},
     "output_type": "execute_result"
    }
   ],
   "source": [
    "B_inv_hat[:,:,0]"
   ]
  },
  {
   "cell_type": "code",
   "execution_count": 20,
   "id": "f4de3e20-6314-46f2-a74b-c30cfb1e8677",
   "metadata": {},
   "outputs": [],
   "source": [
    "A_tensor_prec = m_prod_three(B_inv, A_tensor, B_inv_T, funm_dct, invm_dct)"
   ]
  },
  {
   "cell_type": "code",
   "execution_count": 21,
   "id": "9541c10b-1ef7-43d0-8262-bf7003a3c9cc",
   "metadata": {},
   "outputs": [],
   "source": [
    "A_tensor_prec_hat = facewice_tree(B_inv_hat, A_tensor_mult_M, B_inv_hat.transpose(1,0,2))"
   ]
  },
  {
   "cell_type": "code",
   "execution_count": 22,
   "id": "3e42bda3-5b3a-4c35-8d88-6a1569c7fe8c",
   "metadata": {},
   "outputs": [
    {
     "name": "stdout",
     "output_type": "stream",
     "text": [
      "Condition number of each frontal slice of A^hat\n",
      "Preconditioned:  12753.61701092738 Original:  2742.178146769511\n",
      "Preconditioned:  665.5821842991342 Original:  232.22449553521238\n",
      "Preconditioned:  616.1175982589378 Original:  211.716587930182\n",
      "Preconditioned:  9161.299470336126 Original:  1790.7403330130733\n",
      "Preconditioned:  3.2944455051961476 Original:  9.60784516923714\n",
      "Preconditioned:  3465.410227582163 Original:  799.8932930894347\n",
      "Preconditioned:  24.450328684446262 Original:  31.95389651148932\n",
      "Preconditioned:  1.3011928410666973 Original:  3.673781829147786\n",
      "Preconditioned:  1124.6433726570835 Original:  342.8921126695719\n",
      "Preconditioned:  486.2058864624234 Original:  179.43088608394834\n"
     ]
    }
   ],
   "source": [
    "print('Condition number of each frontal slice of A^hat')\n",
    "for i in range(A_tensor_prec_hat.shape[-1]):\n",
    "    print('Preconditioned: ', LA.cond(A_tensor_prec_hat[:,:,i]), 'Original: ' , LA.cond(A_tensor_mult_M[:,:,i]))"
   ]
  },
  {
   "cell_type": "code",
   "execution_count": null,
   "id": "a7ebc135-3fb8-435d-9aec-cc119455d1c4",
   "metadata": {},
   "outputs": [],
   "source": []
  },
  {
   "cell_type": "code",
   "execution_count": null,
   "id": "263d93ab-2955-451e-8843-09e81bbd83a8",
   "metadata": {},
   "outputs": [],
   "source": []
  },
  {
   "cell_type": "code",
   "execution_count": null,
   "id": "48861d6a-e41c-439d-b581-0d99ba8e35bf",
   "metadata": {},
   "outputs": [],
   "source": []
  },
  {
   "cell_type": "code",
   "execution_count": null,
   "id": "40852f58-b9b8-4b1a-80b0-785f8fcd338a",
   "metadata": {},
   "outputs": [],
   "source": []
  },
  {
   "cell_type": "code",
   "execution_count": null,
   "id": "8b5f3b6d-aafe-4b20-a19c-8506c225db4b",
   "metadata": {},
   "outputs": [],
   "source": []
  },
  {
   "cell_type": "code",
   "execution_count": null,
   "id": "fac47a33-7865-4cbc-a8ce-5a4dbead1402",
   "metadata": {},
   "outputs": [],
   "source": []
  },
  {
   "cell_type": "code",
   "execution_count": null,
   "id": "3c50f140-b499-43a6-97b6-d6bd1ea6b2a3",
   "metadata": {},
   "outputs": [],
   "source": []
  },
  {
   "cell_type": "code",
   "execution_count": null,
   "id": "abe96df8-c623-4563-bdc3-ee6a9fbb4863",
   "metadata": {},
   "outputs": [],
   "source": []
  },
  {
   "cell_type": "code",
   "execution_count": null,
   "id": "7b16dc6d-6240-4138-912f-885a08d051cd",
   "metadata": {},
   "outputs": [],
   "source": []
  },
  {
   "cell_type": "code",
   "execution_count": null,
   "id": "662e5a56-10b6-43ec-a26f-a9644f8c7a80",
   "metadata": {},
   "outputs": [],
   "source": []
  },
  {
   "cell_type": "code",
   "execution_count": null,
   "id": "42189846-f5dc-4b8a-8f30-678388be8a93",
   "metadata": {},
   "outputs": [],
   "source": []
  },
  {
   "cell_type": "code",
   "execution_count": null,
   "id": "988c61fb-6d45-4422-a678-d05ea97d6ca5",
   "metadata": {},
   "outputs": [],
   "source": []
  },
  {
   "cell_type": "code",
   "execution_count": null,
   "id": "c527fa06-a84b-47a5-bf3a-fe6c48fb7652",
   "metadata": {},
   "outputs": [],
   "source": []
  },
  {
   "cell_type": "code",
   "execution_count": 23,
   "id": "68837887-8b73-4b12-92be-5a63bcbd24b2",
   "metadata": {},
   "outputs": [
    {
     "name": "stdout",
     "output_type": "stream",
     "text": [
      "wheather the slices are psd?\n",
      "True\n",
      "True\n",
      "True\n",
      "True\n",
      "True\n",
      "True\n",
      "True\n",
      "True\n",
      "True\n",
      "True\n"
     ]
    }
   ],
   "source": [
    "print('wheather the slices are psd?')\n",
    "for i in range(n):\n",
    "    nu = is_pos_def(A_tensor_mult_M[:,:,i])\n",
    "    print(nu)\n",
    "    if ~nu:\n",
    "        eigs = np.linalg.eigvals(A_tensor_mult_M[:,:,i])\n",
    "        print('smallest eigenvalue = ', eigs.min())\n"
   ]
  },
  {
   "cell_type": "code",
   "execution_count": 24,
   "id": "6bc9ecc0-4195-4143-b778-cd2060955a27",
   "metadata": {},
   "outputs": [],
   "source": [
    "def normalize(X, funm_dct, invm_dct, tol=10**-10):\n",
    "    V = funm_dct(X)\n",
    "    m, p, n = X.shape #p==1\n",
    "    a_all = np.ones(n)\n",
    "    for i in range(n):\n",
    "        a = np.linalg.norm(V[:,:,i].squeeze(), None)\n",
    "        # print(a)\n",
    "        a_all[i]=a  \n",
    "        if a>tol:\n",
    "            V[:,:,i] = V[:,:,i]/a\n",
    "        else:\n",
    "            print(a)\n",
    "            V[:,:,i] = np.random.randn(m, 1)\n",
    "            a = np.linalg.norm(V[:,:,i].squeeze(), None)\n",
    "            V[:,:,i] = V[:,:,i]/a\n",
    "            a_all[i]=0\n",
    "    V = invm_dct(V)\n",
    "    a_all = invm_dct(a_all.reshape((1,1,-1)))\n",
    "    return V, a_all"
   ]
  },
  {
   "cell_type": "code",
   "execution_count": 25,
   "id": "02f1e457-1764-4427-a3b0-8afa18cc6590",
   "metadata": {},
   "outputs": [],
   "source": [
    "I_hat= np.ones((1,1,n))                                                      "
   ]
  },
  {
   "cell_type": "code",
   "execution_count": 26,
   "id": "5cce18f9-2c80-426d-b852-cd198f2dc310",
   "metadata": {},
   "outputs": [],
   "source": [
    "def inverse_of_tube(a, funm_dct, invm_dct):\n",
    "    _,_,n = a.shape\n",
    "\n",
    "    a_hat = funm_dct(a)\n",
    "    a_inv_hat = np.divide(I_hat,a_hat)\n",
    "    a_inv = invm_dct(a_inv_hat)\n",
    "    # a_inv[a_inv==np.nan]=0\n",
    "    # a_inv[a_inv==np.inf]=0\n",
    "    # a_inv[a_inv==-np.inf]=0\n",
    "    # print(a_inv)\n",
    "    return a_inv"
   ]
  },
  {
   "cell_type": "code",
   "execution_count": 27,
   "id": "f05edaf8-5269-4928-9e35-b02bc868b3c9",
   "metadata": {},
   "outputs": [
    {
     "name": "stdout",
     "output_type": "stream",
     "text": [
      "the hat tube is equal to identity tube (in transformed space):\n"
     ]
    },
    {
     "data": {
      "text/plain": [
       "array([[[1., 1., 1., 1., 1., 1., 1., 1., 1., 1.]]])"
      ]
     },
     "execution_count": 27,
     "metadata": {},
     "output_type": "execute_result"
    }
   ],
   "source": [
    "a = np.random.rand(1,1,10)\n",
    "a_inv = inverse_of_tube(a, funm_dct, invm_dct)\n",
    "m_prod(a, a_inv,funm_dct, invm_dct)\n",
    "print('the hat tube is equal to identity tube (in transformed space):')\n",
    "funm_dct(m_prod(a_inv,a,funm_dct, invm_dct))"
   ]
  },
  {
   "cell_type": "code",
   "execution_count": 28,
   "id": "a7ec304e-5fde-4f9e-9286-fefd8a894725",
   "metadata": {},
   "outputs": [],
   "source": [
    "def CG_M_tensor(A_tensor, B, funm_dct, invm_dct, iters, tol=10**-10, X_zero=None, X_true=None):\n",
    "    m, p, n = A_tensor.shape\n",
    "    if m!=p:\n",
    "        print('error: the frontal slices are not square matrices')\n",
    "        return None\n",
    "    if X_zero==None:\n",
    "        X_zero = np.zeros((p, 1, n))\n",
    "        # X_zero = np.random.rand(p,1, n)\n",
    "\n",
    "    # R = B-m_prod(A_tensor, X_zero, funm_dct, invm_dct)\n",
    "    R, a_all = normalize(B, funm_dct, invm_dct, tol)\n",
    "    # print(a_all)\n",
    "    D = R.copy()\n",
    "    X = X_zero.copy()\n",
    "    error_each_step = []\n",
    "    for i in range(iters):\n",
    "        alpha_num = m_prod(R.transpose((1,0,2)), R, funm_dct, invm_dct)\n",
    "        alpha_den = m_prod_three(D.transpose((1,0,2)),A_tensor, D, funm_dct, invm_dct)\n",
    "\n",
    "        alpha = m_prod(alpha_num,inverse_of_tube(alpha_den, funm_dct, invm_dct),funm_dct, invm_dct) \n",
    "        X = X+m_prod(D, alpha, funm_dct, invm_dct)\n",
    "        R_next = R-m_prod_three(A_tensor, D, alpha, funm_dct, invm_dct)\n",
    "        beta_num = m_prod(R_next.transpose((1,0,2)), R_next, funm_dct, invm_dct)\n",
    "        beta_den = m_prod(R.transpose((1,0,2)), R, funm_dct, invm_dct)\n",
    "        beta = m_prod(inverse_of_tube(beta_den, funm_dct, invm_dct), beta_num,funm_dct, invm_dct)\n",
    "        D = R_next+m_prod(D, beta, funm_dct, invm_dct)\n",
    "        # print('D', D[0])\n",
    "        R = R_next.copy()\n",
    "        if type(X_true).__module__ == np.__name__:\n",
    "            X_new = m_prod(X, a_all, funm_dct, invm_dct)\n",
    "            # X_new = X.copy()\n",
    "            error_each_step.append(tensor_frob_norm(X_new-X_true))\n",
    "    if type(X_true).__module__ == np.__name__:\n",
    "        return X_new, error_each_step"
   ]
  },
  {
   "cell_type": "markdown",
   "id": "09923255-a7c0-4e66-8f0b-a5de012b4ca0",
   "metadata": {},
   "source": [
    "## random: A_orig - normal, x-normal"
   ]
  },
  {
   "cell_type": "code",
   "execution_count": 29,
   "id": "15f77102-446c-4087-ae65-1e59837572a2",
   "metadata": {},
   "outputs": [],
   "source": [
    "np.random.seed(0)\n",
    "A_orig = np.random.randn(m, p, n)\n",
    "\n",
    "A_tensor = m_prod(A_orig.transpose((1,0,2)), A_orig, funm_dct, invm_dct)+10*np.array(n*[np.identity(p)]).transpose((1,2,0))\n",
    "X_true = np.random.randn(p, 1, n)\n",
    "B = m_prod(A_tensor, X_true, funm_dct, invm_dct)"
   ]
  },
  {
   "cell_type": "code",
   "execution_count": 30,
   "id": "0eaf6e14-9768-471c-9637-c65a333abfe7",
   "metadata": {},
   "outputs": [
    {
     "data": {
      "image/png": "[encoded data removed]",
      "text/plain": [
       "<Figure size 432x288 with 1 Axes>"
      ]
     },
     "metadata": {
      "needs_background": "light"
     },
     "output_type": "display_data"
    }
   ],
   "source": [
    "X, error = CG_M_tensor(A_tensor, B, funm_dct, invm_dct, iters=20, X_zero=None, X_true=X_true)\n",
    "plt.plot(error)\n",
    "plt.title('norm of absolute error')\n",
    "plt.xlabel('iterations')\n",
    "plt.show()"
   ]
  },
  {
   "cell_type": "code",
   "execution_count": 31,
   "id": "e483636a-c251-487b-ba62-5c71d8647ab2",
   "metadata": {},
   "outputs": [
    {
     "data": {
      "text/plain": [
       "1.3662980021724064e-09"
      ]
     },
     "execution_count": 31,
     "metadata": {},
     "output_type": "execute_result"
    }
   ],
   "source": [
    "error[-1]"
   ]
  },
  {
   "cell_type": "markdown",
   "id": "386f03b4-debd-43f0-abe5-9ad472356658",
   "metadata": {},
   "source": [
    "### the next iterations are NaN"
   ]
  },
  {
   "cell_type": "markdown",
   "id": "223d97ea-d34a-4719-8acf-a28f53a93d51",
   "metadata": {},
   "source": [
    "## random: A_orig - uniform, x-normal"
   ]
  },
  {
   "cell_type": "code",
   "execution_count": 32,
   "id": "0c8fe85c-afcc-4062-8de8-7a311e1d2dad",
   "metadata": {},
   "outputs": [
    {
     "data": {
      "image/png": "[encoded data removed]",
      "text/plain": [
       "<Figure size 432x288 with 1 Axes>"
      ]
     },
     "metadata": {
      "needs_background": "light"
     },
     "output_type": "display_data"
    }
   ],
   "source": [
    "np.random.seed(0)\n",
    "A_orig = np.random.rand(m, p, n)\n",
    "\n",
    "A_tensor = m_prod(A_orig.transpose((1,0,2)), A_orig, funm_dct, invm_dct)+10*np.array(n*[np.identity(p)]).transpose((1,2,0))\n",
    "X_true = np.random.randn(p, 1, n)\n",
    "B = m_prod(A_tensor, X_true, funm_dct, invm_dct)\n",
    "\n",
    "X, error = CG_M_tensor(A_tensor, B, funm_dct, invm_dct, iters=100, X_zero=None, X_true=X_true)\n",
    "plt.plot(error)\n",
    "plt.title('norm of absolute error')\n",
    "plt.xlabel('iterations')\n",
    "plt.show()"
   ]
  },
  {
   "cell_type": "markdown",
   "id": "c2a00b7e-be87-4831-a1e7-c416be43b341",
   "metadata": {},
   "source": [
    "## random: A_orig - normal, x-uniform"
   ]
  },
  {
   "cell_type": "code",
   "execution_count": 33,
   "id": "9cc6e0fd-95f3-4574-93ef-91e16f454a9c",
   "metadata": {},
   "outputs": [
    {
     "data": {
      "image/png": "[encoded data removed]",
      "text/plain": [
       "<Figure size 432x288 with 1 Axes>"
      ]
     },
     "metadata": {
      "needs_background": "light"
     },
     "output_type": "display_data"
    }
   ],
   "source": [
    "np.random.seed(0)\n",
    "A_orig = np.random.randn(m, p, n)\n",
    "\n",
    "A_tensor = m_prod(A_orig.transpose((1,0,2)), A_orig, funm_dct, invm_dct)+10*np.array(n*[np.identity(p)]).transpose((1,2,0))\n",
    "X_true = np.random.rand(p, 1, n)\n",
    "B = m_prod(A_tensor, X_true, funm_dct, invm_dct)\n",
    "\n",
    "X, error = CG_M_tensor(A_tensor, B, funm_dct, invm_dct, iters=100, X_zero=None, X_true=X_true)\n",
    "plt.plot(error)\n",
    "plt.title('norm of absolute error')\n",
    "plt.xlabel('iterations')\n",
    "plt.show()"
   ]
  },
  {
   "cell_type": "markdown",
   "id": "3331f456-7cef-4609-bf2b-a7f9a851c13a",
   "metadata": {},
   "source": [
    "## random: A_orig - uniform, x-uniform"
   ]
  },
  {
   "cell_type": "code",
   "execution_count": 34,
   "id": "ba24a064-8ebd-4a64-9a52-7ee14ed56765",
   "metadata": {},
   "outputs": [
    {
     "name": "stderr",
     "output_type": "stream",
     "text": [
      "/tmp/ipykernel_321665/467913587.py:5: RuntimeWarning: divide by zero encountered in true_divide\n",
      "  a_inv_hat = np.divide(I_hat,a_hat)\n",
      "/home/anna/my_project_dir/my_project_env/lib/python3.8/site-packages/mprod/_base.py:98: RuntimeWarning: invalid value encountered in matmul\n",
      "  return (M @ A.transpose((2, 1, 0)).reshape(n, m * p)).reshape((n, p, m)).transpose((2, 1, 0))\n"
     ]
    },
    {
     "data": {
      "image/png": "[encoded data removed]",
      "text/plain": [
       "<Figure size 432x288 with 1 Axes>"
      ]
     },
     "metadata": {
      "needs_background": "light"
     },
     "output_type": "display_data"
    }
   ],
   "source": [
    "np.random.seed(0)\n",
    "A_orig = np.random.rand(m, p, n)\n",
    "\n",
    "A_tensor = m_prod(A_orig.transpose((1,0,2)), A_orig, funm_dct, invm_dct)+10*np.array(n*[np.identity(p)]).transpose((1,2,0))\n",
    "X_true = np.random.rand(p, 1, n)\n",
    "B = m_prod(A_tensor, X_true, funm_dct, invm_dct)\n",
    "\n",
    "X, error = CG_M_tensor(A_tensor, B, funm_dct, invm_dct, iters=100, X_zero=None, X_true=X_true)\n",
    "plt.plot(error)\n",
    "plt.title('norm of absolute error')\n",
    "plt.xlabel('iterations')\n",
    "plt.show()"
   ]
  },
  {
   "cell_type": "code",
   "execution_count": null,
   "id": "26b4c27f-ccdc-40c6-8bd5-120445667c41",
   "metadata": {},
   "outputs": [],
   "source": []
  },
  {
   "cell_type": "code",
   "execution_count": null,
   "id": "4f21eee8-6c09-4728-8611-3588b8b224c3",
   "metadata": {},
   "outputs": [],
   "source": []
  },
  {
   "cell_type": "code",
   "execution_count": null,
   "id": "61a3151c-c536-491f-93f2-c0d39cb527d8",
   "metadata": {},
   "outputs": [],
   "source": []
  },
  {
   "cell_type": "code",
   "execution_count": null,
   "id": "d6f08517-c362-46a9-9371-be0fd5ed9229",
   "metadata": {},
   "outputs": [],
   "source": []
  }
 ],
 "metadata": {
  "kernelspec": {
   "display_name": "Python 3 (ipykernel)",
   "language": "python",
   "name": "python3"
  },
  "language_info": {
   "codemirror_mode": {
    "name": "ipython",
    "version": 3
   },
   "file_extension": ".py",
   "mimetype": "text/x-python",
   "name": "python",
   "nbconvert_exporter": "python",
   "pygments_lexer": "ipython3",
   "version": "3.8.10"
  }
 },
 "nbformat": 4,
 "nbformat_minor": 5
}
