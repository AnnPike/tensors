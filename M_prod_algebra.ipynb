{
 "cells": [
  {
   "cell_type": "code",
   "execution_count": 1,
   "id": "79e81416-2011-4a25-8c0e-fac90fb31662",
   "metadata": {},
   "outputs": [],
   "source": [
    "import numpy as np\n",
    "import matplotlib.pyplot as plt\n",
    "from mprod import  m_prod\n",
    "from mprod import  generate_haar, generate_dct\n",
    "from numpy import linalg as LA\n",
    "from scipy.stats import ortho_group\n",
    "from scipy.fft import dct, idct, rfft, irfft"
   ]
  },
  {
   "cell_type": "code",
   "execution_count": 2,
   "id": "68d42705-8747-448f-9f9e-6c83fb2e64f7",
   "metadata": {},
   "outputs": [],
   "source": [
    "def tensor_frob_norm(A):\n",
    "    return np.sqrt((A**2).sum())\n",
    "\n",
    "def is_pos_def(x):\n",
    "    return np.all(np.linalg.eigvals(x) > 0)"
   ]
  },
  {
   "cell_type": "markdown",
   "id": "4c091275-1d9b-4289-91bf-f6858be9c553",
   "metadata": {},
   "source": [
    "# assighn random tensor A (dominant diagonal) and b"
   ]
  },
  {
   "cell_type": "code",
   "execution_count": 3,
   "id": "e6c02e84-e9ef-455b-92fb-0fdc4a4a635b",
   "metadata": {},
   "outputs": [
    {
     "name": "stdout",
     "output_type": "stream",
     "text": [
      "\n",
      "condition number of each frontal slice\n",
      "311.4610065095237\n",
      "16.73035410655449\n",
      "4.539813961722965\n",
      "303.76269026174396\n",
      "3.4281865266138376\n",
      "206.6488718310949\n",
      "1.9900544746715567\n",
      "201.21912617075634\n",
      "1.8533960789962758\n",
      "121.66874388248407\n",
      "\n",
      "condition number of each frontal slice of A^hat\n",
      "3.4794560836205286\n",
      "3.5049704775215673\n",
      "3.4663630352713044\n",
      "3.682088086924538\n",
      "3.4730790222507424\n",
      "3.6914619130719815\n",
      "3.7668923477088314\n",
      "3.6436551502420187\n",
      "3.4555219967921156\n",
      "3.446983716221579\n"
     ]
    }
   ],
   "source": [
    "m, p, n = 1000, 100, 10\n",
    "funm_dct, invm_dct = generate_haar(n, random_state=100)\n",
    "\n",
    "np.random.seed(0)\n",
    "A_orig = np.random.randn(m, p, n)\n",
    "\n",
    "A_tensor = m_prod(A_orig.transpose((1,0,2)), A_orig, funm_dct, invm_dct)+10*np.array(n*[np.identity(p)]).transpose((1,2,0))\n",
    "X_true = np.random.randn(p, 1, n)\n",
    "B = m_prod(A_tensor, X_true, funm_dct, invm_dct)\n",
    "\n",
    "A_tensor_mult_M = funm_dct(A_tensor)\n",
    "\n",
    "print('\\ncondition number of each frontal slice')\n",
    "for i in range(n):\n",
    "    print(LA.cond(A_tensor[:,:,i]))\n",
    "    \n",
    "print('\\ncondition number of each frontal slice of A^hat')        \n",
    "for i in range(n):\n",
    "    print(LA.cond(A_tensor_mult_M[:,:,i]))"
   ]
  },
  {
   "cell_type": "code",
   "execution_count": 4,
   "id": "68837887-8b73-4b12-92be-5a63bcbd24b2",
   "metadata": {},
   "outputs": [
    {
     "name": "stdout",
     "output_type": "stream",
     "text": [
      "wheather the slices are psd?\n",
      "True\n",
      "True\n",
      "True\n",
      "True\n",
      "True\n",
      "True\n",
      "True\n",
      "True\n",
      "True\n",
      "True\n"
     ]
    }
   ],
   "source": [
    "print('wheather the slices are psd?')\n",
    "for i in range(n):\n",
    "    nu = is_pos_def(A_tensor_mult_M[:,:,i])\n",
    "    print(nu)\n",
    "    if ~nu:\n",
    "        eigs = np.linalg.eigvals(A_tensor_mult_M[:,:,i])\n",
    "        print('smallest eigenvalue = ', eigs.min())\n"
   ]
  },
  {
   "cell_type": "code",
   "execution_count": 5,
   "id": "6bc9ecc0-4195-4143-b778-cd2060955a27",
   "metadata": {},
   "outputs": [],
   "source": [
    "def normalize(X, funm_dct, invm_dct, tol):\n",
    "    V = funm_dct(X)\n",
    "    m, p, n = X.shape #p==1\n",
    "    a_all = np.ones(n)\n",
    "    for i in range(n):\n",
    "        a = np.linalg.norm(V[:,:,i].squeeze(), None)\n",
    "        # print(a)\n",
    "        a_all[i]=a  \n",
    "        if a>tol:\n",
    "            V[:,:,i] = V[:,:,i]/a\n",
    "        else:\n",
    "            print(a)\n",
    "            V[:,:,i] = np.random.randn(m, 1)\n",
    "            a = np.linalg.norm(V[:,:,i].squeeze(), None)\n",
    "            V[:,:,i] = V[:,:,i]/a\n",
    "            a_all[i]=0\n",
    "    V = invm_dct(V)\n",
    "    a_all = invm_dct(a_all.reshape((1,1,-1)))\n",
    "    return V, a_all"
   ]
  },
  {
   "cell_type": "code",
   "execution_count": 6,
   "id": "02f1e457-1764-4427-a3b0-8afa18cc6590",
   "metadata": {},
   "outputs": [],
   "source": [
    "I = np.concatenate([np.zeros((1,1)).reshape((1,1,1)) for i in range(n-1)], 2)\n",
    "I = np.concatenate((np.identity(1).reshape((1,1,1)), I), 2)\n",
    "I_hat = funm_dct(I)"
   ]
  },
  {
   "cell_type": "code",
   "execution_count": 7,
   "id": "5cce18f9-2c80-426d-b852-cd198f2dc310",
   "metadata": {},
   "outputs": [],
   "source": [
    "def inverse_of_tube(a, funm_dct, invm_dct):\n",
    "    _,_,n = a.shape\n",
    "\n",
    "    a_hat = funm_dct(a)\n",
    "    a_inv_hat = np.divide(I_hat,a_hat)\n",
    "    a_inv = invm_dct(a_inv_hat)\n",
    "    # a_inv[a_inv==np.nan]=0\n",
    "    # a_inv[a_inv==np.inf]=0\n",
    "    # a_inv[a_inv==-np.inf]=0\n",
    "    # print(a_inv)\n",
    "    return a_inv"
   ]
  },
  {
   "cell_type": "code",
   "execution_count": 8,
   "id": "f05edaf8-5269-4928-9e35-b02bc868b3c9",
   "metadata": {},
   "outputs": [
    {
     "name": "stdout",
     "output_type": "stream",
     "text": [
      "the tube is almost equal to identity tube:\n"
     ]
    },
    {
     "data": {
      "text/plain": [
       "array([[[ 1.00000000e+00,  6.93889390e-17, -1.97758476e-16,\n",
       "         -5.55111512e-17,  7.25114413e-16,  2.22044605e-16,\n",
       "          2.35922393e-16,  4.57966998e-16,  3.20056481e-16,\n",
       "          1.50920942e-16]]])"
      ]
     },
     "execution_count": 8,
     "metadata": {},
     "output_type": "execute_result"
    }
   ],
   "source": [
    "a = np.random.rand(1,1,10)\n",
    "a_inv = inverse_of_tube(a, funm_dct, invm_dct)\n",
    "m_prod(a, a_inv,funm_dct, invm_dct)\n",
    "print('the tube is almost equal to identity tube:')\n",
    "m_prod(a_inv,a,funm_dct, invm_dct)"
   ]
  },
  {
   "cell_type": "code",
   "execution_count": 9,
   "id": "7bbd3684-037e-4967-b46a-e17df49001cb",
   "metadata": {},
   "outputs": [],
   "source": [
    "def m_prod_three(A, B, C, fun_m, inv_m):\n",
    "    \n",
    "    a_hat = fun_m(A)\n",
    "    b_hat = fun_m(B)\n",
    "    c_hat = fun_m(C)\n",
    "\n",
    "    mult_hat = np.einsum('mpi,pli->mli',np.einsum('mpi,pli->mli', a_hat, b_hat), c_hat)\n",
    "    return inv_m(mult_hat)"
   ]
  },
  {
   "cell_type": "code",
   "execution_count": 10,
   "id": "a7ec304e-5fde-4f9e-9286-fefd8a894725",
   "metadata": {},
   "outputs": [],
   "source": [
    "def CG_M_tensor(A_tensor, B, funm_dct, invm_dct, iters, tol, X_zero=None, X_true=None):\n",
    "    m, p, n = A_tensor.shape\n",
    "    if m!=p:\n",
    "        print('error: the frontal slices are not square matrices')\n",
    "        return None\n",
    "    if X_zero==None:\n",
    "        X_zero = np.ones((p, 1, n))\n",
    "        # X_zero = np.random.rand(p,1, n)\n",
    "\n",
    "    # R = B-m_prod(A_tensor, X_zero, funm_dct, invm_dct)\n",
    "    R, a_all = normalize(B-m_prod(A_tensor, X_zero, funm_dct, invm_dct), funm_dct, invm_dct, tol)\n",
    "    # print(a_all)\n",
    "    D = R.copy()\n",
    "    X = X_zero.copy()\n",
    "    error_each_step = []\n",
    "    for i in range(iters):\n",
    "        alpha_num = m_prod(R.transpose((1,0,2)), R, funm_dct, invm_dct)\n",
    "        alpha_den = m_prod_three(D.transpose((1,0,2)),A_tensor, D, funm_dct, invm_dct)\n",
    "\n",
    "        alpha = m_prod(alpha_num,inverse_of_tube(alpha_den, funm_dct, invm_dct),funm_dct, invm_dct) \n",
    "        X = X+m_prod_three(A_tensor, D, alpha, funm_dct, invm_dct)\n",
    "        R_next = R-m_prod_three(A_tensor, D, alpha, funm_dct, invm_dct)\n",
    "        beta_num = m_prod(R_next.transpose((1,0,2)), R_next, funm_dct, invm_dct)\n",
    "        beta_den = m_prod(R.transpose((1,0,2)), R, funm_dct, invm_dct)\n",
    "        beta = m_prod(inverse_of_tube(beta_den, funm_dct, invm_dct), beta_num,funm_dct, invm_dct)\n",
    "        D = R_next+m_prod(D, beta, funm_dct, invm_dct)\n",
    "        # print('D', D[0])\n",
    "        R = R_next.copy()\n",
    "        if type(X_true).__module__ == np.__name__:\n",
    "            X_new = m_prod(X, a_all, funm_dct, invm_dct)\n",
    "            # X_new = X.copy()\n",
    "            error_each_step.append(tensor_frob_norm(X_new-X_true))\n",
    "    if type(X_true).__module__ == np.__name__:\n",
    "        return X_new, error_each_step"
   ]
  },
  {
   "cell_type": "markdown",
   "id": "09923255-a7c0-4e66-8f0b-a5de012b4ca0",
   "metadata": {},
   "source": [
    "## random: A_orig - normal, x-normal"
   ]
  },
  {
   "cell_type": "code",
   "execution_count": 11,
   "id": "15f77102-446c-4087-ae65-1e59837572a2",
   "metadata": {},
   "outputs": [],
   "source": [
    "np.random.seed(0)\n",
    "A_orig = np.random.randn(m, p, n)\n",
    "\n",
    "A_tensor = m_prod(A_orig.transpose((1,0,2)), A_orig, funm_dct, invm_dct)+10*np.array(n*[np.identity(p)]).transpose((1,2,0))\n",
    "X_true = np.random.randn(p, 1, n)\n",
    "B = m_prod(A_tensor, X_true, funm_dct, invm_dct)"
   ]
  },
  {
   "cell_type": "code",
   "execution_count": 12,
   "id": "0eaf6e14-9768-471c-9637-c65a333abfe7",
   "metadata": {},
   "outputs": [
    {
     "name": "stdout",
     "output_type": "stream",
     "text": [
      "10924.278093772296\n",
      "13258.994394289235\n",
      "13898.287615143161\n",
      "11184.438183391845\n",
      "11361.998903457827\n",
      "11694.33639789798\n",
      "10851.683580958144\n"
     ]
    },
    {
     "name": "stderr",
     "output_type": "stream",
     "text": [
      "/tmp/ipykernel_437396/467913587.py:5: RuntimeWarning: divide by zero encountered in true_divide\n",
      "  a_inv_hat = np.divide(I_hat,a_hat)\n",
      "/home/anna/my_project_dir/my_project_env/lib/python3.8/site-packages/mprod/_base.py:98: RuntimeWarning: invalid value encountered in matmul\n",
      "  return (M @ A.transpose((2, 1, 0)).reshape(n, m * p)).reshape((n, p, m)).transpose((2, 1, 0))\n"
     ]
    },
    {
     "data": {
      "image/png": "[encoded data removed]",
      "text/plain": [
       "<Figure size 432x288 with 1 Axes>"
      ]
     },
     "metadata": {
      "needs_background": "light"
     },
     "output_type": "display_data"
    }
   ],
   "source": [
    "X, error = CG_M_tensor(A_tensor, B, funm_dct, invm_dct, iters=100, tol=15000, X_zero=None, X_true=X_true)\n",
    "plt.plot(error)\n",
    "plt.title('norm of absolute error')\n",
    "plt.xlabel('iterations')\n",
    "plt.show()"
   ]
  },
  {
   "cell_type": "markdown",
   "id": "386f03b4-debd-43f0-abe5-9ad472356658",
   "metadata": {},
   "source": [
    "### the next iterations are NaN"
   ]
  },
  {
   "cell_type": "markdown",
   "id": "223d97ea-d34a-4719-8acf-a28f53a93d51",
   "metadata": {},
   "source": [
    "## random: A_orig - uniform, x-normal"
   ]
  },
  {
   "cell_type": "code",
   "execution_count": 13,
   "id": "0c8fe85c-afcc-4062-8de8-7a311e1d2dad",
   "metadata": {},
   "outputs": [
    {
     "name": "stdout",
     "output_type": "stream",
     "text": [
      "3697.2014578735066\n",
      "22783.038159007967\n",
      "33180.05853797711\n",
      "9335.571395782299\n",
      "4646.313634848423\n"
     ]
    },
    {
     "name": "stderr",
     "output_type": "stream",
     "text": [
      "/tmp/ipykernel_437396/467913587.py:5: RuntimeWarning: divide by zero encountered in true_divide\n",
      "  a_inv_hat = np.divide(I_hat,a_hat)\n"
     ]
    },
    {
     "data": {
      "image/png": "[encoded data removed]",
      "text/plain": [
       "<Figure size 432x288 with 1 Axes>"
      ]
     },
     "metadata": {
      "needs_background": "light"
     },
     "output_type": "display_data"
    }
   ],
   "source": [
    "np.random.seed(0)\n",
    "A_orig = np.random.rand(m, p, n)\n",
    "\n",
    "A_tensor = m_prod(A_orig.transpose((1,0,2)), A_orig, funm_dct, invm_dct)+10*np.array(n*[np.identity(p)]).transpose((1,2,0))\n",
    "X_true = np.random.randn(p, 1, n)\n",
    "B = m_prod(A_tensor, X_true, funm_dct, invm_dct)\n",
    "\n",
    "X, error = CG_M_tensor(A_tensor, B, funm_dct, invm_dct, iters=100, tol=50000, X_zero=None, X_true=X_true)\n",
    "plt.plot(error)\n",
    "plt.title('norm of absolute error')\n",
    "plt.xlabel('iterations')\n",
    "plt.show()"
   ]
  },
  {
   "cell_type": "markdown",
   "id": "c2a00b7e-be87-4831-a1e7-c416be43b341",
   "metadata": {},
   "source": [
    "## random: A_orig - normal, x-uniform"
   ]
  },
  {
   "cell_type": "code",
   "execution_count": 14,
   "id": "9cc6e0fd-95f3-4574-93ef-91e16f454a9c",
   "metadata": {},
   "outputs": [
    {
     "name": "stdout",
     "output_type": "stream",
     "text": [
      "3142.5990421057986\n",
      "3787.7123708576923\n",
      "4063.0169035120634\n",
      "3639.7483620902594\n",
      "3444.3769314620063\n"
     ]
    },
    {
     "name": "stderr",
     "output_type": "stream",
     "text": [
      "/tmp/ipykernel_437396/467913587.py:5: RuntimeWarning: divide by zero encountered in true_divide\n",
      "  a_inv_hat = np.divide(I_hat,a_hat)\n"
     ]
    },
    {
     "data": {
      "image/png": "[encoded data removed]",
      "text/plain": [
       "<Figure size 432x288 with 1 Axes>"
      ]
     },
     "metadata": {
      "needs_background": "light"
     },
     "output_type": "display_data"
    }
   ],
   "source": [
    "np.random.seed(0)\n",
    "A_orig = np.random.randn(m, p, n)\n",
    "\n",
    "A_tensor = m_prod(A_orig.transpose((1,0,2)), A_orig, funm_dct, invm_dct)+10*np.array(n*[np.identity(p)]).transpose((1,2,0))\n",
    "X_true = np.random.rand(p, 1, n)\n",
    "B = m_prod(A_tensor, X_true, funm_dct, invm_dct)\n",
    "\n",
    "X, error = CG_M_tensor(A_tensor, B, funm_dct, invm_dct, iters=100, tol=5000, X_zero=None, X_true=X_true)\n",
    "plt.plot(error)\n",
    "plt.title('norm of absolute error')\n",
    "plt.xlabel('iterations')\n",
    "plt.show()"
   ]
  },
  {
   "cell_type": "markdown",
   "id": "3331f456-7cef-4609-bf2b-a7f9a851c13a",
   "metadata": {},
   "source": [
    "## random: A_orig - uniform, x-uniform"
   ]
  },
  {
   "cell_type": "code",
   "execution_count": 15,
   "id": "ba24a064-8ebd-4a64-9a52-7ee14ed56765",
   "metadata": {},
   "outputs": [
    {
     "name": "stdout",
     "output_type": "stream",
     "text": [
      "3030.4655940018406\n",
      "10036.238334443144\n",
      "13737.18426626633\n",
      "3401.4952398839114\n",
      "1721.213937624831\n"
     ]
    },
    {
     "name": "stderr",
     "output_type": "stream",
     "text": [
      "/tmp/ipykernel_437396/467913587.py:5: RuntimeWarning: divide by zero encountered in true_divide\n",
      "  a_inv_hat = np.divide(I_hat,a_hat)\n"
     ]
    },
    {
     "data": {
      "image/png": "[encoded data removed]",
      "text/plain": [
       "<Figure size 432x288 with 1 Axes>"
      ]
     },
     "metadata": {
      "needs_background": "light"
     },
     "output_type": "display_data"
    }
   ],
   "source": [
    "np.random.seed(0)\n",
    "A_orig = np.random.rand(m, p, n)\n",
    "\n",
    "A_tensor = m_prod(A_orig.transpose((1,0,2)), A_orig, funm_dct, invm_dct)+10*np.array(n*[np.identity(p)]).transpose((1,2,0))\n",
    "X_true = np.random.rand(p, 1, n)\n",
    "B = m_prod(A_tensor, X_true, funm_dct, invm_dct)\n",
    "\n",
    "X, error = CG_M_tensor(A_tensor, B, funm_dct, invm_dct, iters=100, tol=20000, X_zero=None, X_true=X_true)\n",
    "plt.plot(error)\n",
    "plt.title('norm of absolute error')\n",
    "plt.xlabel('iterations')\n",
    "plt.show()"
   ]
  }
 ],
 "metadata": {
  "kernelspec": {
   "display_name": "Python 3 (ipykernel)",
   "language": "python",
   "name": "python3"
  },
  "language_info": {
   "codemirror_mode": {
    "name": "ipython",
    "version": 3
   },
   "file_extension": ".py",
   "mimetype": "text/x-python",
   "name": "python",
   "nbconvert_exporter": "python",
   "pygments_lexer": "ipython3",
   "version": "3.8.10"
  }
 },
 "nbformat": 4,
 "nbformat_minor": 5
}
